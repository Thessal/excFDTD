{
 "cells": [
  {
   "cell_type": "markdown",
   "metadata": {},
   "source": [
    "### Tensorflow FDTD"
   ]
  },
  {
   "cell_type": "code",
   "execution_count": 1,
   "metadata": {},
   "outputs": [],
   "source": [
    "import tensorflow as tf\n",
    "\n",
    "input_shape = (4, 28, 28, 1)\n",
    "x = tf.random.normal(input_shape)\n",
    "\n",
    "import numpy as np\n",
    "\n"
   ]
  },
  {
   "cell_type": "markdown",
   "metadata": {},
   "source": [
    "### TODO : need to do some math"
   ]
  },
  {
   "cell_type": "code",
   "execution_count": 2,
   "metadata": {},
   "outputs": [],
   "source": [
    "class fdtd_kernel(tf.keras.initializers.Initializer):\n",
    "\n",
    "    def __init__(self, model='dielectric', _2d=True):\n",
    "        self.model = model\n",
    "        self._2d = True\n",
    "\n",
    "    def __call__(self):\n",
    "        if (self.model == 'dielectric') and (self._2d):\n",
    "            return tf.convert_to_tensor(arg, tf.constant(\n",
    "                [[1.0, 0.0], [-1.0, 0.0]]\n",
    "            ))\n",
    "\n",
    "    def get_config(self):  # To support serialization\n",
    "        return {'model': self.model, '_2d': self._2d}\n",
    "\n",
    "class space:\n",
    "    \n",
    "    def __init__(self, epsilon, boundary='periodic', model='dielectric'):\n",
    "        self.szx, self.szy, self.szz = epsilon.shape\n",
    "        self._2d = (min(epsilon.shape)<2)\n",
    "        self.eps = epsilon\n",
    "        assert(model in ['dielectric', 'metal'])\n",
    "        assert(boundary in ['hard', 'periodic', 'pml', 'cpml'])\n",
    "        if model == 'dielectric':\n",
    "            self.channel = 6 + 1\n",
    "        self.batch = 1\n",
    "        self.input_shape = self._input_shape(epsilon)\n",
    "        \n",
    "    def _input_shape(self, epsilon):\n",
    "        if self._2d :\n",
    "            return tuple([self.batch,\n",
    "                          *[ x for x in epsilon.shape if x != min(epsilon.shape) ],\n",
    "                         self.channel])\n",
    "        else :\n",
    "            return tuple([self.batch, *epsilon.shape, self.channel])\n",
    "    \n",
    "    def _kernel(self):\n",
    "        if self._2d:\n",
    "            return \n",
    "        else :\n",
    "            raise NotImplementedError\n",
    "        \n",
    "    def propagate():\n",
    "        if self._2d:\n",
    "            # Seems we need to use aux. field\n",
    "            depthwise_filter = None# Yee skewed shift\n",
    "            pointwise_filter = None# rot kenel\n",
    "            return tf.nn.separable_conv2d(input, depthwise_filter, pointwise_filter)\n",
    "#             return tf.keras.layers.Conv2D(\n",
    "#                 self.batch,\n",
    "#                 self.channel, \n",
    "#                 activation='linear',\n",
    "#                 kernel_initializer=\n",
    "#                 padding='same', \n",
    "#                 input_shape=self.input_shape[1:])\n",
    "        else :\n",
    "            raise NotImplementedError\n",
    "        "
   ]
  },
  {
   "cell_type": "code",
   "execution_count": 3,
   "metadata": {},
   "outputs": [],
   "source": [
    "space_1 = space(np.ones((28,28,1)))\n",
    "space_1._kernel()"
   ]
  },
  {
   "cell_type": "markdown",
   "metadata": {},
   "source": [
    "### Old concepts"
   ]
  },
  {
   "cell_type": "code",
   "execution_count": 4,
   "metadata": {},
   "outputs": [],
   "source": [
    "## convolution kernel\n",
    "y1 = tf.keras.layers.Conv2D(\n",
    "    1, 3, activation='linear', padding=\"same\", input_shape=input_shape[1:])(x)\n",
    "y2 = tf.keras.layers.Conv2D(\n",
    "    1, 3, activation='linear', padding=\"same\", input_shape=input_shape[1:])(y1)"
   ]
  },
  {
   "cell_type": "code",
   "execution_count": 5,
   "metadata": {},
   "outputs": [],
   "source": [
    "## point input\n",
    "s1 = tf.keras.layers.concatenate(\n",
    "    [tf.zeros((4,28*14-1,1)), \n",
    "     tf.multiply(tf.ones((4,1,1)),2),\n",
    "     tf.zeros((4,28*14,1)), \n",
    "     ],axis=1)\n",
    "s1 = tf.keras.layers.Reshape(input_shape[1:])(s1)\n",
    "y1 = tf.keras.layers.Add()([s1, y1])"
   ]
  },
  {
   "cell_type": "code",
   "execution_count": 6,
   "metadata": {},
   "outputs": [],
   "source": [
    "## point output\n",
    "z1 = tf.keras.layers.Cropping2D(cropping=((21, 6), (21, 6)))(y1)\n",
    "z2 = tf.keras.layers.Cropping2D(cropping=((21, 6), (21, 6)))(y2)"
   ]
  },
  {
   "cell_type": "code",
   "execution_count": 7,
   "metadata": {},
   "outputs": [
    {
     "name": "stdout",
     "output_type": "stream",
     "text": [
      "(4, 1, 1, 1)\n",
      "tf.Tensor(\n",
      "[[[[-0.5189931 ]]]\n",
      "\n",
      "\n",
      " [[[-0.5114842 ]]]\n",
      "\n",
      "\n",
      " [[[-0.22099347]]]\n",
      "\n",
      "\n",
      " [[[-0.01040846]]]], shape=(4, 1, 1, 1), dtype=float32)\n"
     ]
    }
   ],
   "source": [
    "print(z1.shape)\n",
    "print(z1)"
   ]
  },
  {
   "cell_type": "code",
   "execution_count": null,
   "metadata": {},
   "outputs": [],
   "source": []
  }
 ],
 "metadata": {
  "kernelspec": {
   "display_name": "Python 3",
   "language": "python",
   "name": "python3"
  },
  "language_info": {
   "codemirror_mode": {
    "name": "ipython",
    "version": 3
   },
   "file_extension": ".py",
   "mimetype": "text/x-python",
   "name": "python",
   "nbconvert_exporter": "python",
   "pygments_lexer": "ipython3",
   "version": "3.8.6"
  }
 },
 "nbformat": 4,
 "nbformat_minor": 4
}
