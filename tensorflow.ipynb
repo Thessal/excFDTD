{
 "cells": [
  {
   "cell_type": "markdown",
   "metadata": {},
   "source": [
    "### Tensorflow FDTD"
   ]
  },
  {
   "cell_type": "code",
   "execution_count": 1,
   "metadata": {},
   "outputs": [],
   "source": [
    "import tensorflow as tf\n",
    "\n",
    "input_shape = (4, 28, 28, 1)\n",
    "x = tf.random.normal(input_shape)"
   ]
  },
  {
   "cell_type": "code",
   "execution_count": 2,
   "metadata": {},
   "outputs": [],
   "source": [
    "## convolution kernel\n",
    "y1 = tf.keras.layers.Conv2D(\n",
    "    1, 3, activation='linear', padding=\"same\", input_shape=input_shape[1:])(x)\n",
    "y2 = tf.keras.layers.Conv2D(\n",
    "    1, 3, activation='linear', padding=\"same\", input_shape=input_shape[1:])(y1)"
   ]
  },
  {
   "cell_type": "code",
   "execution_count": 3,
   "metadata": {},
   "outputs": [],
   "source": [
    "## point input\n",
    "s1 = tf.keras.layers.concatenate(\n",
    "    [tf.zeros((4,28*14-1,1)), \n",
    "     tf.multiply(tf.ones((4,1,1)),2),\n",
    "     tf.zeros((4,28*14,1)), \n",
    "     ],axis=1)\n",
    "s1 = tf.keras.layers.Reshape(input_shape[1:])(s1)\n",
    "y1 = tf.keras.layers.Add()([s1, y1])"
   ]
  },
  {
   "cell_type": "code",
   "execution_count": 4,
   "metadata": {},
   "outputs": [],
   "source": [
    "## point output\n",
    "z1 = tf.keras.layers.Cropping2D(cropping=((21, 6), (21, 6)))(y1)\n",
    "z2 = tf.keras.layers.Cropping2D(cropping=((21, 6), (21, 6)))(y2)"
   ]
  },
  {
   "cell_type": "code",
   "execution_count": 5,
   "metadata": {},
   "outputs": [
    {
     "name": "stdout",
     "output_type": "stream",
     "text": [
      "(4, 1, 1, 1)\n",
      "tf.Tensor(\n",
      "[[[[-0.22244044]]]\n",
      "\n",
      "\n",
      " [[[-0.3038817 ]]]\n",
      "\n",
      "\n",
      " [[[-0.04309594]]]\n",
      "\n",
      "\n",
      " [[[ 1.524742  ]]]], shape=(4, 1, 1, 1), dtype=float32)\n"
     ]
    }
   ],
   "source": [
    "print(z1.shape)\n",
    "print(z1)"
   ]
  },
  {
   "cell_type": "code",
   "execution_count": null,
   "metadata": {},
   "outputs": [],
   "source": []
  }
 ],
 "metadata": {
  "kernelspec": {
   "display_name": "Python 3",
   "language": "python",
   "name": "python3"
  },
  "language_info": {
   "codemirror_mode": {
    "name": "ipython",
    "version": 3
   },
   "file_extension": ".py",
   "mimetype": "text/x-python",
   "name": "python",
   "nbconvert_exporter": "python",
   "pygments_lexer": "ipython3",
   "version": "3.8.6"
  }
 },
 "nbformat": 4,
 "nbformat_minor": 4
}
